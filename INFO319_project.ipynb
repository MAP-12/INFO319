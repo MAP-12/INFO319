{
 "cells": [
  {
   "cell_type": "code",
   "execution_count": 1,
   "metadata": {},
   "outputs": [
    {
     "name": "stderr",
     "output_type": "stream",
     "text": [
      "C:\\Users\\mariu\\Anaconda3\\lib\\site-packages\\ipykernel_launcher.py:11: FutureWarning: The signature of `Series.to_csv` was aligned to that of `DataFrame.to_csv`, and argument 'header' will change its default value from False to True: please pass an explicit value to suppress this warning.\n",
      "  # This is added back by InteractiveShellApp.init_path()\n"
     ]
    }
   ],
   "source": [
    "#Checking if the tweets released under geo tag dataset could be better to use\n",
    "#Also copies the sentiment score \n",
    "import pandas as pd\n",
    "import json\n",
    "\n",
    "\n",
    "geo_tweets.to_csv(\"ready_october15_october16.csv\", index=False, header=None)\n",
    "\n"
   ]
  },
  {
   "cell_type": "code",
   "execution_count": 2,
   "metadata": {},
   "outputs": [
    {
     "data": {
      "text/html": [
       "<div>\n",
       "<style scoped>\n",
       "    .dataframe tbody tr th:only-of-type {\n",
       "        vertical-align: middle;\n",
       "    }\n",
       "\n",
       "    .dataframe tbody tr th {\n",
       "        vertical-align: top;\n",
       "    }\n",
       "\n",
       "    .dataframe thead th {\n",
       "        text-align: right;\n",
       "    }\n",
       "</style>\n",
       "<table border=\"1\" class=\"dataframe\">\n",
       "  <thead>\n",
       "    <tr style=\"text-align: right;\">\n",
       "      <th></th>\n",
       "      <th>created_at</th>\n",
       "      <th>id</th>\n",
       "      <th>id_str</th>\n",
       "      <th>full_text</th>\n",
       "      <th>truncated</th>\n",
       "      <th>display_text_range</th>\n",
       "      <th>entities</th>\n",
       "      <th>source</th>\n",
       "      <th>in_reply_to_status_id</th>\n",
       "      <th>in_reply_to_status_id_str</th>\n",
       "      <th>...</th>\n",
       "      <th>favorite_count</th>\n",
       "      <th>favorited</th>\n",
       "      <th>retweeted</th>\n",
       "      <th>possibly_sensitive</th>\n",
       "      <th>lang</th>\n",
       "      <th>extended_entities</th>\n",
       "      <th>quoted_status_id</th>\n",
       "      <th>quoted_status_id_str</th>\n",
       "      <th>quoted_status_permalink</th>\n",
       "      <th>quoted_status</th>\n",
       "    </tr>\n",
       "  </thead>\n",
       "  <tbody>\n",
       "    <tr>\n",
       "      <td>0</td>\n",
       "      <td>2020-10-15 08:34:13+00:00</td>\n",
       "      <td>1316658625222447000</td>\n",
       "      <td>1316658625222447104</td>\n",
       "      <td>Warm wishes onÂ Global Handwashing Dayâ€¦. Nev...</td>\n",
       "      <td>False</td>\n",
       "      <td>[0, 163]</td>\n",
       "      <td>{'hashtags': [], 'symbols': [], 'user_mentions...</td>\n",
       "      <td>&lt;a href=\"http://instagram.com\" rel=\"nofollow\"&gt;...</td>\n",
       "      <td>NaN</td>\n",
       "      <td>NaN</td>\n",
       "      <td>...</td>\n",
       "      <td>0</td>\n",
       "      <td>False</td>\n",
       "      <td>False</td>\n",
       "      <td>0.0</td>\n",
       "      <td>en</td>\n",
       "      <td>NaN</td>\n",
       "      <td>NaN</td>\n",
       "      <td>NaN</td>\n",
       "      <td>NaN</td>\n",
       "      <td>NaN</td>\n",
       "    </tr>\n",
       "    <tr>\n",
       "      <td>1</td>\n",
       "      <td>2020-10-15 08:12:07+00:00</td>\n",
       "      <td>1316653066704294000</td>\n",
       "      <td>1316653066704293888</td>\n",
       "      <td>We don't like to get political, but @icecube i...</td>\n",
       "      <td>False</td>\n",
       "      <td>[0, 217]</td>\n",
       "      <td>{'hashtags': [{'text': 'contractwithblackameri...</td>\n",
       "      <td>&lt;a href=\"http://instagram.com\" rel=\"nofollow\"&gt;...</td>\n",
       "      <td>NaN</td>\n",
       "      <td>NaN</td>\n",
       "      <td>...</td>\n",
       "      <td>0</td>\n",
       "      <td>False</td>\n",
       "      <td>False</td>\n",
       "      <td>0.0</td>\n",
       "      <td>en</td>\n",
       "      <td>NaN</td>\n",
       "      <td>NaN</td>\n",
       "      <td>NaN</td>\n",
       "      <td>NaN</td>\n",
       "      <td>NaN</td>\n",
       "    </tr>\n",
       "  </tbody>\n",
       "</table>\n",
       "<p>2 rows × 30 columns</p>\n",
       "</div>"
      ],
      "text/plain": [
       "                 created_at                   id               id_str  \\\n",
       "0 2020-10-15 08:34:13+00:00  1316658625222447000  1316658625222447104   \n",
       "1 2020-10-15 08:12:07+00:00  1316653066704294000  1316653066704293888   \n",
       "\n",
       "                                           full_text  truncated  \\\n",
       "0  Warm wishes onÂ Global Handwashing Dayâ€¦. Nev...      False   \n",
       "1  We don't like to get political, but @icecube i...      False   \n",
       "\n",
       "  display_text_range                                           entities  \\\n",
       "0           [0, 163]  {'hashtags': [], 'symbols': [], 'user_mentions...   \n",
       "1           [0, 217]  {'hashtags': [{'text': 'contractwithblackameri...   \n",
       "\n",
       "                                              source  in_reply_to_status_id  \\\n",
       "0  <a href=\"http://instagram.com\" rel=\"nofollow\">...                    NaN   \n",
       "1  <a href=\"http://instagram.com\" rel=\"nofollow\">...                    NaN   \n",
       "\n",
       "   in_reply_to_status_id_str  ...  favorite_count  favorited retweeted  \\\n",
       "0                        NaN  ...               0      False     False   \n",
       "1                        NaN  ...               0      False     False   \n",
       "\n",
       "  possibly_sensitive lang extended_entities quoted_status_id  \\\n",
       "0                0.0   en               NaN              NaN   \n",
       "1                0.0   en               NaN              NaN   \n",
       "\n",
       "   quoted_status_id_str  quoted_status_permalink  quoted_status  \n",
       "0                   NaN                      NaN            NaN  \n",
       "1                   NaN                      NaN            NaN  \n",
       "\n",
       "[2 rows x 30 columns]"
      ]
     },
     "execution_count": 2,
     "metadata": {},
     "output_type": "execute_result"
    }
   ],
   "source": [
    "#Mostly data cleaning below until You see test functions\n",
    "gtt = pd.read_json(r'..\\prosjekt\\ready_october15_october16.jsonl', lines=True, orient='records')\n",
    "gtt = pd.DataFrame(gtt)\n",
    "gtt.head(2)"
   ]
  },
  {
   "cell_type": "code",
   "execution_count": 5,
   "metadata": {},
   "outputs": [
    {
     "name": "stdout",
     "output_type": "stream",
     "text": [
      "                    id  Sentiment_score\n",
      "0  1316596783594827776         0.000000\n",
      "1  1316598620234436609         0.000000\n",
      "2  1316601774942441472         0.107273\n",
      "3  1316602244935151616         0.100000\n",
      "4  1316602446244962304         0.100000\n",
      "[1316596783594827776, 1316598620234436608, 1316601774942441472, 1316602244935151616, 1316602446244962304, 1316602635999420416, 1316607619302268928, 1316607620363370496, 1316607623895027712, 1316608228730433536, 1316609673718566912, 1316609757319364608, 1316609761794617344, 1316610189311840256, 1316610765978173440, 1316612787318091776, 1316612971536228352, 1316613224473726976, 1316613544402546688, 1316613555861430272, 1316613996582236160, 1316615420288266240, 1316615922505977856, 1316620075646869504, 1316620453125922816, 1316622464932179968, 1316622466010116096, 1316622467071242240, 1316624102916984832, 1316624926187687936, 1316625398512353280, 1316626380050882560, 1316626618316537856, 1316627364651163648, 1316629640790700032, 1316631276116348928, 1316631321201061888, 1316631404248264704, 1316633769131094016, 1316634348997808128, 1316636057174077440, 1316636312942727168, 1316637447392878592, 1316638033307938816, 1316638053566418944, 1316638330742743040, 1316638717369626624, 1316638746150727680, 1316638954406387712, 1316638955534577664, 1316639894056230912, 1316641528090165248, 1316643387278323712, 1316643535844671488, 1316646881783476224, 1316647081797443584, 1316647676159520768, 1316648110731517952, 1316649355324002304, 1316650008960172032, 1316650580941705216, 1316652414687035392, 1316653066704293888, 1316653964763553792, 1316654176269553664, 1316654529274929152, 1316654633927016448, 1316654653094998016, 1316654751384301568, 1316654805587116032, 1316655619957456896, 1316656315104600064, 1316657205165404160, 1316658455403360256, 1316658459174039552, 1316658466430185472, 1316658625222447104, 1316659455015223296, 1316660396456017920, 1316660835964669952, 1316661083508109312, 1316661657708433408, 1316661949422215168, 1316663111256924160, 1316664068426674176, 1316664499018096640, 1316666657557942272, 1316667261541781504, 1316667263752179712, 1316667868654731264, 1316668056173776896, 1316668788989980672, 1316669085233680384, 1316669124320268288, 1316669667876851712, 1316670614137188352, 1316672856705699840, 1316674410984726528, 1316674830608015360, 1316675960054468608, 1316676442592288768, 1316676451421294592, 1316677280668831744, 1316680602704207872, 1316682246955229184, 1316682746601725952, 1316683048956702720, 1316683205379076096, 1316683768133046272, 1316683869735723008, 1316683870897500160, 1316683873426632704, 1316683894176051200, 1316684777219555328, 1316685008342458368, 1316685151888261120, 1316687042726821888, 1316687632504516608, 1316688669168861184, 1316688899079647232, 1316689535330258944, 1316689872044929024, 1316690512129089536, 1316690911221473280, 1316691474252288000, 1316691553188970496, 1316692319157080064, 1316692350421422080, 1316692812390227968, 1316695720355913728, 1316697082359476224, 1316697841188974592, 1316698379255246848, 1316699096753684480, 1316699365361307648, 1316700609324544000, 1316700664383315968, 1316700985201360896, 1316702015997837312, 1316702102941511680, 1316702145341804544, 1316702873799991296, 1316702875318321152, 1316703239753138176, 1316703667924406272, 1316704132766470144, 1316704256796192768, 1316706129955696640, 1316707654660616192, 1316707924488708096, 1316709375663394816, 1316709742593572864, 1316711807369715712, 1316712026924896256, 1316713061785448448, 1316713376404385792, 1316713482679660544, 1316713944203943936, 1316714826945695744, 1316715171033812992, 1316716263134105600, 1316716462996889600, 1316716710615904256, 1316717806314946560, 1316718779699785728, 1316719805676875776, 1316720359970799616, 1316724126598328320, 1316725097256845312, 1316725791598809088, 1316726283133280256, 1316726655365210112, 1316727218513408000, 1316729038229114880, 1316732524551380992, 1316733476356251648, 1316733823091003392, 1316734208937582592, 1316734453851451392, 1316736423844876288, 1316736545513189376, 1316736848014635008, 1316737341726351360, 1316738084608913408, 1316739846673756160, 1316740341110902784, 1316742358805950464, 1316742432952774656, 1316742660753825792, 1316742858263715840, 1316743148429889536, 1316743398527729664, 1316743907808600064, 1316743961680048128, 1316744190831857664, 1316744728742854656, 1316746679660490752, 1316747292796313600, 1316747724880932864, 1316747791159316480, 1316748928512004096, 1316750663867674624, 1316751226747473920, 1316751380158308352, 1316751988974116864, 1316752576864346112, 1316753675889635328, 1316753706000551936, 1316754742207422464, 1316754795500371968, 1316754920230584320, 1316755635560755200, 1316756116609658880, 1316756141934870528, 1316756801271070720, 1316757568228855808, 1316758238805852160, 1316758792261054464, 1316759121035550720, 1316760256207179776, 1316760267955621888, 1316760360091820032, 1316760951568371712, 1316761173975597056, 1316761531145691136, 1316762270198710272, 1316763373456035840, 1316763647167791104, 1316766039993016320, 1316766404939571200, 1316767165484277760, 1316767881514762240, 1316768063421808640, 1316768475986132992, 1316769232865157120, 1316769497458585600, 1316769611250053120, 1316769736009580544, 1316769946970464256, 1316770058924961792, 1316770876122189824, 1316771018430656512, 1316771088832106496, 1316771245938147328, 1316771595877330944, 1316772105833394176, 1316773884272635904, 1316774604027965440, 1316774888888299520, 1316778015637073920, 1316778746486173696, 1316779168819023872, 1316779484264181760, 1316779763663605760, 1316780864156692480, 1316780913880174592, 1316782071432400896, 1316782241125670912, 1316783170545692672, 1316784536915648512, 1316784882295730176, 1316785170217922560, 1316785173627768832, 1316785668308168704, 1316785788235976704, 1316786039076327424, 1316786122006179840, 1316787886918959104, 1316788208680816640, 1316789726750351360, 1316789728964943872, 1316790464767500288, 1316791521551802368, 1316793703189680128, 1316794167297798144, 1316794677937475584, 1316795232432709632, 1316795345691705344, 1316795701637066752, 1316796792529457152, 1316797364586201088, 1316798215514185728, 1316799045101408256, 1316801178752053248, 1316801788964732928, 1316802153244049408, 1316802190871334912, 1316802372916711424, 1316802407779586048, 1316803809881063424, 1316805160199364608, 1316805172291661824, 1316805483844505600, 1316805587305406464, 1316805688618823680, 1316806301943439360, 1316807212505980928, 1316807459831508992, 1316807634549452800, 1316807919367847936, 1316808216735555584, 1316809900924776448, 1316810473539620864, 1316811050075983872, 1316811686385512448, 1316811985829408768, 1316812949206429696, 1316812982353973248, 1316813059248324608, 1316813582781341696, 1316813777069846528, 1316814301496315904, 1316814970198392832, 1316815726896873472, 1316815787668070400, 1316815976093175808, 1316816243517661184, 1316816437844086784, 1316818997875220480, 1316819013767327744, 1316819107287793664, 1316819243158196224, 1316820317780807680, 1316820631191793664, 1316822452081745920, 1316822560382697472, 1316822761050906624, 1316824648823246848, 1316825609197236224, 1316825919676444672, 1316826112568172544, 1316827823470977024, 1316828386250027008, 1316828500557471744, 1316828851205537792, 1316829840616677376, 1316829877081960448, 1316830295832879104, 1316830307665018880, 1316831270526164992, 1316831339124006912, 1316831981691432960, 1316832193499607040, 1316832655976148992, 1316833484896260096, 1316833538025586688, 1316834641517727744, 1316835748679622656, 1316835756866973696, 1316837003586019328, 1316837449297989632, 1316837475239686144, 1316837738004410368, 1316838030343385088, 1316838195640836096, 1316838290465591296, 1316838298044645376, 1316838300825653248, 1316838675876065280, 1316839577831735296, 1316839650183376896, 1316842751145713664, 1316842920855531520, 1316842922151686144, 1316843072119025664, 1316844053468639232, 1316844074268323840, 1316844379454148608, 1316844680840183808, 1316845227492212736, 1316845514193883136, 1316845613720403968, 1316845687166787584, 1316846397820469248, 1316846617664712704, 1316847069026373632, 1316847070968307712, 1316847073572999168, 1316847660402388992, 1316847660645654528, 1316848345432748032, 1316849288140533760, 1316850091181760512, 1316851564821327872, 1316851754059923456, 1316851934746349568, 1316852266813587456, 1316852493289218048, 1316852970978455552, 1316853903711969280, 1316879297211113472, 1316883080582467584, 1316885359347859456, 1316885577644560384, 1316892139519791104, 1316892523328118784, 1316893883947798528, 1316896407828254720, 1316899467518529536, 1316899545029070848, 1316899967382978560, 1316901416691257344, 1316903239124721664, 1316904073115873280, 1316904451857354752, 1316904451865706496, 1316904453589602304, 1316905766415196160, 1316905976272965632, 1316906237364232192, 1316906569918042112, 1316906612314046464, 1316907456887402496, 1316907663490428928, 1316908153657851904, 1316908981122719744, 1316910880098050048, 1316912710593007616, 1316915705573408768, 1316915727266402304, 1316916140728324096, 1316916623375294464, 1316917319982026752, 1316918004995772416, 1316918075707580416, 1316918297477173248, 1316919171666554880, 1316919173113663488, 1316919174439075840, 1316919178033532928, 1316919481206247424, 1316919523547729920, 1316919603767971840, 1316919604963364864, 1316919810983399424, 1316920182112194560, 1316920805062737920, 1316920932842283008, 1316922902273495040, 1316922999711334400, 1316923077775806464, 1316923339827519488, 1316923391723622400, 1316924430560468992, 1316925262349697024, 1316928185389416448, 1316928236899737600, 1316928732091867136, 1316929514790883328, 1316930542907084800, 1316930548456148992, 1316930712944185344, 1316930808725295104, 1316930950182428672, 1316931013201809408, 1316931745795760128, 1316932261166632960, 1316932918112096256, 1316934858963374080, 1316935159594233856, 1316935622267981824, 1316935909078597632, 1316936513477816320, 1316936519362482176, 1316936912976883712, 1316937226618621952, 1316937363453607936, 1316937427894886400, 1316938466618462208, 1316942664202391552, 1316945182860972032, 1316946491362234368, 1316946846632259584, 1316946874658586624, 1316947114530885632, 1316947458879086592, 1316947608447995904, 1316949374056960000, 1316951470961528832, 1316952267472371712, 1316952386620039168, 1316952594066120704, 1316952911189020672, 1316953118886760448, 1316953235492687872, 1316953322222485504, 1316953570277773312, 1316953707016278016, 1316953863094763520, 1316954051871936512, 1316954175150972928, 1316954438284738560, 1316954725296766976, 1316954816715907072, 1316954970500046848, 1316955312222502912, 1316955560600866816, 1316955647959797760, 1316955801282596864, 1316955951359033344, 1316956048209645568, 1316956144984875008, 1316956440746201088, 1316956845941153792]\n"
     ]
    }
   ],
   "source": []
  },
  {
   "cell_type": "code",
   "execution_count": 8,
   "metadata": {},
   "outputs": [
    {
     "ename": "KeyError",
     "evalue": "\"['contributors'] not found in axis\"",
     "output_type": "error",
     "traceback": [
      "\u001b[1;31m---------------------------------------------------------------------------\u001b[0m",
      "\u001b[1;31mKeyError\u001b[0m                                  Traceback (most recent call last)",
      "\u001b[1;32m<ipython-input-8-d350d0cdc74a>\u001b[0m in \u001b[0;36m<module>\u001b[1;34m\u001b[0m\n\u001b[0;32m      1\u001b[0m \u001b[1;31m#Removes useless columns\u001b[0m\u001b[1;33m\u001b[0m\u001b[1;33m\u001b[0m\u001b[1;33m\u001b[0m\u001b[0m\n\u001b[1;32m----> 2\u001b[1;33m \u001b[0mgtt\u001b[0m \u001b[1;33m=\u001b[0m \u001b[0mgtt\u001b[0m\u001b[1;33m.\u001b[0m\u001b[0mdrop\u001b[0m\u001b[1;33m(\u001b[0m\u001b[1;34m'contributors'\u001b[0m\u001b[1;33m,\u001b[0m \u001b[0maxis\u001b[0m\u001b[1;33m=\u001b[0m\u001b[1;36m1\u001b[0m\u001b[1;33m)\u001b[0m\u001b[1;33m\u001b[0m\u001b[1;33m\u001b[0m\u001b[0m\n\u001b[0m\u001b[0;32m      3\u001b[0m \u001b[0mgtt\u001b[0m \u001b[1;33m=\u001b[0m \u001b[0mgtt\u001b[0m\u001b[1;33m.\u001b[0m\u001b[0mdrop\u001b[0m\u001b[1;33m(\u001b[0m\u001b[1;34m'created_at'\u001b[0m\u001b[1;33m,\u001b[0m \u001b[0maxis\u001b[0m\u001b[1;33m=\u001b[0m\u001b[1;36m1\u001b[0m\u001b[1;33m)\u001b[0m\u001b[1;33m\u001b[0m\u001b[1;33m\u001b[0m\u001b[0m\n\u001b[0;32m      4\u001b[0m \u001b[0mgtt\u001b[0m \u001b[1;33m=\u001b[0m \u001b[0mgtt\u001b[0m\u001b[1;33m.\u001b[0m\u001b[0mdrop\u001b[0m\u001b[1;33m(\u001b[0m\u001b[1;34m'display_text_range'\u001b[0m\u001b[1;33m,\u001b[0m \u001b[0maxis\u001b[0m \u001b[1;33m=\u001b[0m \u001b[1;36m1\u001b[0m\u001b[1;33m)\u001b[0m\u001b[1;33m\u001b[0m\u001b[1;33m\u001b[0m\u001b[0m\n\u001b[0;32m      5\u001b[0m \u001b[0mgtt\u001b[0m \u001b[1;33m=\u001b[0m \u001b[0mgtt\u001b[0m\u001b[1;33m.\u001b[0m\u001b[0mdrop\u001b[0m\u001b[1;33m(\u001b[0m\u001b[1;34m'entities'\u001b[0m\u001b[1;33m,\u001b[0m \u001b[0maxis\u001b[0m \u001b[1;33m=\u001b[0m \u001b[1;36m1\u001b[0m\u001b[1;33m)\u001b[0m\u001b[1;33m\u001b[0m\u001b[1;33m\u001b[0m\u001b[0m\n",
      "\u001b[1;32m~\\Anaconda3\\lib\\site-packages\\pandas\\core\\frame.py\u001b[0m in \u001b[0;36mdrop\u001b[1;34m(self, labels, axis, index, columns, level, inplace, errors)\u001b[0m\n\u001b[0;32m   4100\u001b[0m             \u001b[0mlevel\u001b[0m\u001b[1;33m=\u001b[0m\u001b[0mlevel\u001b[0m\u001b[1;33m,\u001b[0m\u001b[1;33m\u001b[0m\u001b[1;33m\u001b[0m\u001b[0m\n\u001b[0;32m   4101\u001b[0m             \u001b[0minplace\u001b[0m\u001b[1;33m=\u001b[0m\u001b[0minplace\u001b[0m\u001b[1;33m,\u001b[0m\u001b[1;33m\u001b[0m\u001b[1;33m\u001b[0m\u001b[0m\n\u001b[1;32m-> 4102\u001b[1;33m             \u001b[0merrors\u001b[0m\u001b[1;33m=\u001b[0m\u001b[0merrors\u001b[0m\u001b[1;33m,\u001b[0m\u001b[1;33m\u001b[0m\u001b[1;33m\u001b[0m\u001b[0m\n\u001b[0m\u001b[0;32m   4103\u001b[0m         )\n\u001b[0;32m   4104\u001b[0m \u001b[1;33m\u001b[0m\u001b[0m\n",
      "\u001b[1;32m~\\Anaconda3\\lib\\site-packages\\pandas\\core\\generic.py\u001b[0m in \u001b[0;36mdrop\u001b[1;34m(self, labels, axis, index, columns, level, inplace, errors)\u001b[0m\n\u001b[0;32m   3912\u001b[0m         \u001b[1;32mfor\u001b[0m \u001b[0maxis\u001b[0m\u001b[1;33m,\u001b[0m \u001b[0mlabels\u001b[0m \u001b[1;32min\u001b[0m \u001b[0maxes\u001b[0m\u001b[1;33m.\u001b[0m\u001b[0mitems\u001b[0m\u001b[1;33m(\u001b[0m\u001b[1;33m)\u001b[0m\u001b[1;33m:\u001b[0m\u001b[1;33m\u001b[0m\u001b[1;33m\u001b[0m\u001b[0m\n\u001b[0;32m   3913\u001b[0m             \u001b[1;32mif\u001b[0m \u001b[0mlabels\u001b[0m \u001b[1;32mis\u001b[0m \u001b[1;32mnot\u001b[0m \u001b[1;32mNone\u001b[0m\u001b[1;33m:\u001b[0m\u001b[1;33m\u001b[0m\u001b[1;33m\u001b[0m\u001b[0m\n\u001b[1;32m-> 3914\u001b[1;33m                 \u001b[0mobj\u001b[0m \u001b[1;33m=\u001b[0m \u001b[0mobj\u001b[0m\u001b[1;33m.\u001b[0m\u001b[0m_drop_axis\u001b[0m\u001b[1;33m(\u001b[0m\u001b[0mlabels\u001b[0m\u001b[1;33m,\u001b[0m \u001b[0maxis\u001b[0m\u001b[1;33m,\u001b[0m \u001b[0mlevel\u001b[0m\u001b[1;33m=\u001b[0m\u001b[0mlevel\u001b[0m\u001b[1;33m,\u001b[0m \u001b[0merrors\u001b[0m\u001b[1;33m=\u001b[0m\u001b[0merrors\u001b[0m\u001b[1;33m)\u001b[0m\u001b[1;33m\u001b[0m\u001b[1;33m\u001b[0m\u001b[0m\n\u001b[0m\u001b[0;32m   3915\u001b[0m \u001b[1;33m\u001b[0m\u001b[0m\n\u001b[0;32m   3916\u001b[0m         \u001b[1;32mif\u001b[0m \u001b[0minplace\u001b[0m\u001b[1;33m:\u001b[0m\u001b[1;33m\u001b[0m\u001b[1;33m\u001b[0m\u001b[0m\n",
      "\u001b[1;32m~\\Anaconda3\\lib\\site-packages\\pandas\\core\\generic.py\u001b[0m in \u001b[0;36m_drop_axis\u001b[1;34m(self, labels, axis, level, errors)\u001b[0m\n\u001b[0;32m   3944\u001b[0m                 \u001b[0mnew_axis\u001b[0m \u001b[1;33m=\u001b[0m \u001b[0maxis\u001b[0m\u001b[1;33m.\u001b[0m\u001b[0mdrop\u001b[0m\u001b[1;33m(\u001b[0m\u001b[0mlabels\u001b[0m\u001b[1;33m,\u001b[0m \u001b[0mlevel\u001b[0m\u001b[1;33m=\u001b[0m\u001b[0mlevel\u001b[0m\u001b[1;33m,\u001b[0m \u001b[0merrors\u001b[0m\u001b[1;33m=\u001b[0m\u001b[0merrors\u001b[0m\u001b[1;33m)\u001b[0m\u001b[1;33m\u001b[0m\u001b[1;33m\u001b[0m\u001b[0m\n\u001b[0;32m   3945\u001b[0m             \u001b[1;32melse\u001b[0m\u001b[1;33m:\u001b[0m\u001b[1;33m\u001b[0m\u001b[1;33m\u001b[0m\u001b[0m\n\u001b[1;32m-> 3946\u001b[1;33m                 \u001b[0mnew_axis\u001b[0m \u001b[1;33m=\u001b[0m \u001b[0maxis\u001b[0m\u001b[1;33m.\u001b[0m\u001b[0mdrop\u001b[0m\u001b[1;33m(\u001b[0m\u001b[0mlabels\u001b[0m\u001b[1;33m,\u001b[0m \u001b[0merrors\u001b[0m\u001b[1;33m=\u001b[0m\u001b[0merrors\u001b[0m\u001b[1;33m)\u001b[0m\u001b[1;33m\u001b[0m\u001b[1;33m\u001b[0m\u001b[0m\n\u001b[0m\u001b[0;32m   3947\u001b[0m             \u001b[0mresult\u001b[0m \u001b[1;33m=\u001b[0m \u001b[0mself\u001b[0m\u001b[1;33m.\u001b[0m\u001b[0mreindex\u001b[0m\u001b[1;33m(\u001b[0m\u001b[1;33m**\u001b[0m\u001b[1;33m{\u001b[0m\u001b[0maxis_name\u001b[0m\u001b[1;33m:\u001b[0m \u001b[0mnew_axis\u001b[0m\u001b[1;33m}\u001b[0m\u001b[1;33m)\u001b[0m\u001b[1;33m\u001b[0m\u001b[1;33m\u001b[0m\u001b[0m\n\u001b[0;32m   3948\u001b[0m \u001b[1;33m\u001b[0m\u001b[0m\n",
      "\u001b[1;32m~\\Anaconda3\\lib\\site-packages\\pandas\\core\\indexes\\base.py\u001b[0m in \u001b[0;36mdrop\u001b[1;34m(self, labels, errors)\u001b[0m\n\u001b[0;32m   5338\u001b[0m         \u001b[1;32mif\u001b[0m \u001b[0mmask\u001b[0m\u001b[1;33m.\u001b[0m\u001b[0many\u001b[0m\u001b[1;33m(\u001b[0m\u001b[1;33m)\u001b[0m\u001b[1;33m:\u001b[0m\u001b[1;33m\u001b[0m\u001b[1;33m\u001b[0m\u001b[0m\n\u001b[0;32m   5339\u001b[0m             \u001b[1;32mif\u001b[0m \u001b[0merrors\u001b[0m \u001b[1;33m!=\u001b[0m \u001b[1;34m\"ignore\"\u001b[0m\u001b[1;33m:\u001b[0m\u001b[1;33m\u001b[0m\u001b[1;33m\u001b[0m\u001b[0m\n\u001b[1;32m-> 5340\u001b[1;33m                 \u001b[1;32mraise\u001b[0m \u001b[0mKeyError\u001b[0m\u001b[1;33m(\u001b[0m\u001b[1;34m\"{} not found in axis\"\u001b[0m\u001b[1;33m.\u001b[0m\u001b[0mformat\u001b[0m\u001b[1;33m(\u001b[0m\u001b[0mlabels\u001b[0m\u001b[1;33m[\u001b[0m\u001b[0mmask\u001b[0m\u001b[1;33m]\u001b[0m\u001b[1;33m)\u001b[0m\u001b[1;33m)\u001b[0m\u001b[1;33m\u001b[0m\u001b[1;33m\u001b[0m\u001b[0m\n\u001b[0m\u001b[0;32m   5341\u001b[0m             \u001b[0mindexer\u001b[0m \u001b[1;33m=\u001b[0m \u001b[0mindexer\u001b[0m\u001b[1;33m[\u001b[0m\u001b[1;33m~\u001b[0m\u001b[0mmask\u001b[0m\u001b[1;33m]\u001b[0m\u001b[1;33m\u001b[0m\u001b[1;33m\u001b[0m\u001b[0m\n\u001b[0;32m   5342\u001b[0m         \u001b[1;32mreturn\u001b[0m \u001b[0mself\u001b[0m\u001b[1;33m.\u001b[0m\u001b[0mdelete\u001b[0m\u001b[1;33m(\u001b[0m\u001b[0mindexer\u001b[0m\u001b[1;33m)\u001b[0m\u001b[1;33m\u001b[0m\u001b[1;33m\u001b[0m\u001b[0m\n",
      "\u001b[1;31mKeyError\u001b[0m: \"['contributors'] not found in axis\""
     ]
    }
   ],
   "source": [
    "#Removes useless columns \n",
    "gtt = gtt.drop('contributors', axis=1)\n",
    "gtt = gtt.drop('created_at', axis=1)\n",
    "gtt = gtt.drop('display_text_range', axis = 1)\n",
    "gtt = gtt.drop('entities', axis = 1)\n",
    "gtt = gtt.drop('extended_entities', axis = 1)\n",
    "gtt = gtt.drop('favorite_count', axis=1)\n",
    "gtt = gtt.drop('favorited', axis = 1)\n",
    "gtt = gtt.drop('in_reply_to_screen_name', axis = 1)\n",
    "gtt = gtt.drop('in_reply_to_status_id', axis = 1)\n",
    "gtt = gtt.drop('in_reply_to_status_id_str', axis=1)\n",
    "gtt = gtt.drop(\"in_reply_to_user_id\", axis=1)\n",
    "gtt = gtt.drop(\"in_reply_to_user_id_str\", axis=1)\n",
    "gtt = gtt.drop(\"is_quote_status\", axis=1)\n",
    "gtt = gtt.drop(\"lang\", axis=1)\n",
    "gtt = gtt.drop(\"place\", axis=1)\n",
    "gtt = gtt.drop(\"possibly_sensitive\", axis=1)\n",
    "gtt = gtt.drop(\"quoted_status\", axis=1)\n",
    "gtt = gtt.drop(\"quoted_status_id\", axis=1)\n",
    "gtt = gtt.drop(\"quoted_status_id_str\", axis=1)\n",
    "gtt = gtt.drop(\"quoted_status_permalink\", axis=1)\n",
    "gtt = gtt.drop(\"retweeted\", axis=1)\n",
    "gtt = gtt.drop(\"truncated\", axis=1)\n",
    "gtt = gtt.drop(\"user\", axis=1)"
   ]
  },
  {
   "cell_type": "code",
   "execution_count": 29,
   "metadata": {},
   "outputs": [
    {
     "name": "stdout",
     "output_type": "stream",
     "text": [
      "{'type': 'Point', 'coordinates': [52.820803240000004, 104.7780869]}\n"
     ]
    }
   ],
   "source": [
    "#I decide to remove futher columns for this set up, but have the others saved\n",
    "gps = gtt\n",
    "gps = gps.drop(\"id\", axis=1)\n",
    "gps = gps.drop(\"id_str\", axis=1)\n",
    "gps = gps.drop(\"source\", axis=1)\n",
    "gps = gps.drop(\"retweet_count\", axis=1)\n",
    "gps = gps.drop(\"full_text\", axis=1)\n",
    "gps = gps.drop(\"coordinates\", axis=1)\n",
    "gps.head(3)\n",
    "print(gps['geo'].iloc[0])\n"
   ]
  },
  {
   "cell_type": "code",
   "execution_count": 104,
   "metadata": {},
   "outputs": [
    {
     "name": "stdout",
     "output_type": "stream",
     "text": [
      "    Longitude  Langitude\n",
      "0   76.868591   8.570497\n",
      "1 -118.244500  34.056400\n",
      "2    0.710803  52.244933\n"
     ]
    }
   ],
   "source": [
    "import sys, json\n",
    "struct = {}\n",
    "\n",
    "\n",
    "#Turns the jsonl file to a json file which then appends the coordinates from that\n",
    "#To two lists which is then combined into a dataframe\n",
    "with open('../prosjekt/ready_october15_october16.jsonl', 'r', encoding='utf-8') as json_file:\n",
    "    json_list = list(json_file)\n",
    "lol = []\n",
    "lal = []\n",
    "for json_str in json_list:\n",
    "    result = json.loads(json_str)\n",
    "    coords = result['coordinates']\n",
    "    lon = coords[\"coordinates\"][0]\n",
    "    lol.append(lon)\n",
    "    lat = coords[\"coordinates\"][1]\n",
    "    lal.append(lat)\n",
    "\n",
    "\n",
    "column_names = [\"Longitude\", \"Langitude\"]\n",
    "true_gps = pd.DataFrame(columns = column_names)\n",
    "true_gps['Longitude'] = lol\n",
    "true_gps['Langitude'] = lal\n",
    "print(true_gps.head(3))\n",
    "\n",
    "\n",
    "\n"
   ]
  },
  {
   "cell_type": "code",
   "execution_count": 48,
   "metadata": {},
   "outputs": [
    {
     "ename": "NameError",
     "evalue": "name 'StreamListener' is not defined",
     "output_type": "error",
     "traceback": [
      "\u001b[1;31m---------------------------------------------------------------------------\u001b[0m",
      "\u001b[1;31mNameError\u001b[0m                                 Traceback (most recent call last)",
      "\u001b[1;32m<ipython-input-48-bd7ef13f37b6>\u001b[0m in \u001b[0;36m<module>\u001b[1;34m\u001b[0m\n\u001b[0;32m     11\u001b[0m \u001b[0mcount\u001b[0m \u001b[1;33m=\u001b[0m \u001b[1;36m0\u001b[0m\u001b[1;33m\u001b[0m\u001b[1;33m\u001b[0m\u001b[0m\n\u001b[0;32m     12\u001b[0m \u001b[1;33m\u001b[0m\u001b[0m\n\u001b[1;32m---> 13\u001b[1;33m \u001b[1;32mclass\u001b[0m \u001b[0mlistener\u001b[0m\u001b[1;33m(\u001b[0m\u001b[0mStreamListener\u001b[0m\u001b[1;33m)\u001b[0m\u001b[1;33m:\u001b[0m\u001b[1;33m\u001b[0m\u001b[1;33m\u001b[0m\u001b[0m\n\u001b[0m\u001b[0;32m     14\u001b[0m \u001b[1;33m\u001b[0m\u001b[0m\n\u001b[0;32m     15\u001b[0m     \u001b[1;32mdef\u001b[0m \u001b[0mon_data\u001b[0m\u001b[1;33m(\u001b[0m\u001b[0mself\u001b[0m\u001b[1;33m,\u001b[0m \u001b[0mdata\u001b[0m\u001b[1;33m)\u001b[0m\u001b[1;33m:\u001b[0m\u001b[1;33m\u001b[0m\u001b[1;33m\u001b[0m\u001b[0m\n",
      "\u001b[1;31mNameError\u001b[0m: name 'StreamListener' is not defined"
     ]
    }
   ],
   "source": [
    "import json\n",
    "#from tweepy import Stream\n",
    "#from tweepy import OAuthHandler\n",
    "#from tweepy.streaming import StreamListener\n",
    "\n",
    "\n",
    "file = open(\"..\\prosjekt\\Output.csv\", \"w\")\n",
    "file.write(\"X,Y\\n\")\n",
    "\n",
    "data_list = []\n",
    "count = 0\n",
    "\n",
    "class listener(data):\n",
    "\n",
    "    def on_data(self, data):\n",
    "        global count\n",
    "\n",
    "        #How many tweets you want to find, could change to time based\n",
    "        if count <= 2000:\n",
    "            json_data = json.loads(data)\n",
    "\n",
    "            coords = json_data[\"coordinates\"]\n",
    "            if coords is not None:\n",
    "               print(coords[\"coordinates\"])\n",
    "               lon = coords[\"coordinates\"][0]\n",
    "               lat = coords[\"coordinates\"][1]\n",
    "\n",
    "               data_list.append(json_data)\n",
    "\n",
    "               file.write(str(lon) + \",\")\n",
    "               file.write(str(lat) + \"\\n\")\n",
    "\n",
    "               count += 1\n",
    "            return True\n",
    "        else:\n",
    "            file.close()\n",
    "            return False\n",
    "\n",
    "    def on_error(self, status):\n",
    "        print(status)\n",
    "\n",
    "#auth = OAuthHandler(consumer_key, consumer_secret)\n",
    "#auth.set_access_token(access_token, access_secret)\n",
    "#twitterStream = Stream(auth, listener())\n",
    "#What you want to search for here\n",
    "#twitterStream.filter(track=[\"Halloween\"])\n",
    "listener()"
   ]
  },
  {
   "cell_type": "code",
   "execution_count": 11,
   "metadata": {},
   "outputs": [
    {
     "name": "stdout",
     "output_type": "stream",
     "text": [
      "{'type': 'Point', 'coordinates': [-25, 135]}\n"
     ]
    }
   ],
   "source": [
    "#Sender en csv fil\n",
    "from pandas import DataFrame\n",
    "bol = True\n",
    "fil = []\n",
    "i =0\n",
    "while bol == True:\n",
    "    fil.append(gps['geo'].iloc[i])\n",
    "    i = i +1\n",
    "    if i+1 > len(gps['geo']):\n",
    "        bol=False\n",
    "        break\n",
    "print(fil[-1])\n",
    "df = DataFrame(fil)\n",
    "df.head(2)\n",
    "df.to_csv(\"..\\prosjekt\\gps.csv\",index=False)"
   ]
  },
  {
   "cell_type": "code",
   "execution_count": null,
   "metadata": {},
   "outputs": [],
   "source": []
  }
 ],
 "metadata": {
  "kernelspec": {
   "display_name": "Python 3",
   "language": "python",
   "name": "python3"
  },
  "language_info": {
   "codemirror_mode": {
    "name": "ipython",
    "version": 3
   },
   "file_extension": ".py",
   "mimetype": "text/x-python",
   "name": "python",
   "nbconvert_exporter": "python",
   "pygments_lexer": "ipython3",
   "version": "3.7.4"
  }
 },
 "nbformat": 4,
 "nbformat_minor": 2
}
